{
  "nbformat": 4,
  "nbformat_minor": 0,
  "metadata": {
    "kernelspec": {
      "display_name": "Python 3",
      "language": "python",
      "name": "python3"
    },
    "language_info": {
      "codemirror_mode": {
        "name": "ipython",
        "version": 3
      },
      "file_extension": ".py",
      "mimetype": "text/x-python",
      "name": "python",
      "nbconvert_exporter": "python",
      "pygments_lexer": "ipython3",
      "version": "3.8.3"
    },
    "colab": {
      "name": "Sesion 2_Variables_Algoritmos.ipynb",
      "provenance": [],
      "collapsed_sections": [],
      "include_colab_link": true
    }
  },
  "cells": [
    {
      "cell_type": "markdown",
      "metadata": {
        "id": "view-in-github",
        "colab_type": "text"
      },
      "source": [
        "<a href=\"https://colab.research.google.com/github/pluisfer/30-Days-Of-JavaScript/blob/master/Sesion_2_Variables_Algoritmos.ipynb\" target=\"_parent\"><img src=\"https://colab.research.google.com/assets/colab-badge.svg\" alt=\"Open In Colab\"/></a>"
      ]
    },
    {
      "cell_type": "markdown",
      "metadata": {
        "id": "sMxEglLywt8O"
      },
      "source": [
        "# Fundamentos de Programación con Python\n",
        "\n",
        "## Estructuras algorítmicas\n",
        "\n",
        "Vamos a trabajar en modificar el algoritmo y pasarlo a Python.\n",
        "\n",
        "Inicio\n",
        "\n",
        "    a ⇐ 2 \n",
        "    b ⇐ 3\n",
        "    c ⇐ 1\n",
        "    x1 ⇐ (-b + ((b^2)-(4*a*c))^(½))/(2*a)\n",
        "    x2 ⇐ (-b - ((b^2)-(4*a*c))^(½))/(2*a)\n",
        "    escribir x1\n",
        "    escribir x2\n",
        "Fin\n",
        "\n",
        "\n",
        "Además de las operaciones matemáticas básicas que vimos en la sesión anterior, también podemos importar otras operaciones o funciones desde una \"librería\" (aunque la traducción correcta de library es biblioteca, en español se ha vuelto más común hablar de librerías).\n",
        "\n",
        "Por ejemplo, podemos usar la función raíz cuadrada sqrt importando math. Escribe el código para imprimir la raíz cuadrada de un valor."
      ]
    },
    {
      "cell_type": "code",
      "metadata": {
        "id": "TG9Kg5KZhMMW"
      },
      "source": [
        "# Versión 1.0 Utilizando el operador potencia (**)\n",
        "a = 2 \n",
        "b = 3\n",
        "c = 1\n",
        "x1 = (-b + (b**2-4*a*c)**(0.5))/(2*a)\n",
        "x2 = (-b - (b**2-4*a*c)**(1/2))/(2*a)\n",
        "print(x1)\n",
        "print(x2)"
      ],
      "execution_count": null,
      "outputs": []
    },
    {
      "cell_type": "code",
      "metadata": {
        "id": "vzuLXiFtwt8R"
      },
      "source": [
        "# Versión 2.0 Utilizando el principio de extensión\n",
        "import math as ma\n",
        "a = 2 \n",
        "b = 3\n",
        "c = 4\n",
        "x1 = (-b + ma.sqrt(b**2-4*a*c))/(2*a)\n",
        "x2 = (-b - ma.sqrt(b**2-4*a*c))/(2*a)\n",
        "print(x1)\n",
        "print(x2)"
      ],
      "execution_count": null,
      "outputs": []
    },
    {
      "cell_type": "code",
      "metadata": {
        "id": "QhRoCcYpmuk5"
      },
      "source": [
        "# Versión 3.0 Utilizando el principio de extensión\n",
        "import cmath as ma\n",
        "a = 2 \n",
        "b = 3\n",
        "c = 4\n",
        "x1 = (-b + ma.sqrt(b**2-4*a*c))/(2*a)\n",
        "x2 = (-b - ma.sqrt(b**2-4*a*c))/(2*a)\n",
        "print(x1)\n",
        "print(x2)"
      ],
      "execution_count": null,
      "outputs": []
    },
    {
      "cell_type": "code",
      "metadata": {
        "id": "uRo9A3QXm5Iy"
      },
      "source": [
        "# V4.0 Aplicando validaciones\n",
        "a = 2 \n",
        "b = 3\n",
        "c = 4\n",
        "dis = b**2-4*a*c\n",
        "if a==0:\n",
        "  print(\"No es una cuadratica\")\n",
        "elif dis<0:                         # SinoSi\n",
        "  print(\"No tiene raices reales\")\n",
        "else:\n",
        "  x1 = (-b + dis**0.5)/(2*a)\n",
        "  x2 = (-b - dis**0.5)/(2*a)\n",
        "  print(x1)\n",
        "  print(x2)"
      ],
      "execution_count": null,
      "outputs": []
    },
    {
      "cell_type": "markdown",
      "metadata": {
        "id": "1J1KktRUwt8S"
      },
      "source": [
        "Puedes ver todas las funciones que tiene esta librería y cómo se usan, con los siguientes comandos:"
      ]
    },
    {
      "cell_type": "code",
      "metadata": {
        "id": "50JaRvBhwt8S",
        "colab": {
          "base_uri": "https://localhost:8080/"
        },
        "outputId": "0b0faa9e-8a19-4db5-cda0-f7b9f862aa19"
      },
      "source": [
        "#dir(math)           # Lista de funciones\n",
        "#help(math)          # Ayuda sobre la librería math\n",
        "\n",
        "help(math.degrees)     # Ayuda sobre la función sqrt"
      ],
      "execution_count": null,
      "outputs": [
        {
          "output_type": "stream",
          "text": [
            "Help on built-in function degrees in module math:\n",
            "\n",
            "degrees(x, /)\n",
            "    Convert angle x from radians to degrees.\n",
            "\n"
          ],
          "name": "stdout"
        }
      ]
    },
    {
      "cell_type": "markdown",
      "metadata": {
        "id": "gVl-yxWTwt8T"
      },
      "source": [
        "Volvamos al algoritmo entonces. En la prueba de escritorio, determinamos que (b^2)-(4*a*c) debe ser mayor a 0 para poder obtener la raiz cuadrada. Aquí vamos a modificar los valores para ejecutar el código. Mas adelante, con condicionales podremos evaluar los valores durante la ejecución e imprimir un mensaje en caso de error.                                                                                    "
      ]
    },
    {
      "cell_type": "code",
      "metadata": {
        "id": "qldVVWXmwt8T"
      },
      "source": [
        "import math\n",
        "a = 2\n",
        "b = 3\n",
        "c = 1\n",
        "x1 = (-b + math.sqrt((b**2)-(4*a*c)))/(2*a)\n",
        "x2 = (-b - math.sqrt((b**2)-(4*a*c)))/(2*a)\n",
        "print(x1)\n",
        "print(x2)"
      ],
      "execution_count": null,
      "outputs": []
    },
    {
      "cell_type": "markdown",
      "metadata": {
        "id": "VN8ZKDrwwt8U"
      },
      "source": [
        "### Actividad 1\n",
        "\n",
        "Los tipos de datos son muy importantes en programación. Aunque Python no exige declarar un tipo de variable y permite cambiarlo (lo cual no ocurre en otros lenguajes de programación), cada variable si asume un tipo según el dato que tenga almacenado. Por ejemplo:\n"
      ]
    },
    {
      "cell_type": "code",
      "metadata": {
        "id": "svMKJA9Lwt8U"
      },
      "source": [
        "a = 5     # Esto es un Entero (No tiene decimales)\n",
        "b = 5.3   # Esto es un flotante (Un número que puede tener comas decimals)\n",
        "c = '5'   # Esto es un texto, y por ende, no podemos hacer operaciones matemáticas con c"
      ],
      "execution_count": null,
      "outputs": []
    },
    {
      "cell_type": "markdown",
      "metadata": {
        "id": "qXy9_XKawt8V"
      },
      "source": [
        "Usando la función type(), obten e imprime el tipo de dato de las variables a, b y c:"
      ]
    },
    {
      "cell_type": "code",
      "metadata": {
        "id": "VPdAyZbIwt8V",
        "colab": {
          "base_uri": "https://localhost:8080/"
        },
        "outputId": "5b8cfda1-3571-4e6f-b238-d66066681c0b"
      },
      "source": [
        "print(type(a))\n",
        "print(type(b))\n",
        "print(type(c))"
      ],
      "execution_count": null,
      "outputs": [
        {
          "output_type": "stream",
          "text": [
            "<class 'int'>\n",
            "<class 'float'>\n",
            "<class 'str'>\n"
          ],
          "name": "stdout"
        }
      ]
    },
    {
      "cell_type": "markdown",
      "metadata": {
        "id": "-cDOums-wt8V"
      },
      "source": [
        "### Actividad 2\n",
        "\n",
        "Ahora, practiquemos nuevamente la estructura algorítmica y recordemos el uso de tipos de datos. \n",
        "\n",
        "Juan y Pedro acostumbran jugar un juego de adivinar un número. En el juego es permitido dar tres pistas p1 p2 p3. Después de muchos intentos Pedro descubre la fórmula con la que Juan crea el número con las pistas dadas, y es la siguiente:\n",
        "\n",
        "    p1 + p3 ∗ p2 − (p1 + p2 ∗ 5 + 1) / (p2 + p1/2) + p3\n",
        "\n",
        "Si la pista que da Juan es 2, 1 y 4, ¿cuál es el número que debería decir Pedro para ganar? Escribamos el código para recibir los valores y devolver el valor que Pedro debería decir.\n"
      ]
    },
    {
      "cell_type": "code",
      "metadata": {
        "id": "TEw_sP-Gwt8W",
        "colab": {
          "base_uri": "https://localhost:8080/"
        },
        "outputId": "a1c8aca4-7494-43af-b880-213cab22004b"
      },
      "source": [
        "\"\"\"\n",
        "ENUNCIADO     : Juan y Pedro acostumbran jugar un juego de adivinar un número. En el juego es permitido \n",
        "                dar tres pistas p1 p2 p3. Después de muchos intentos Pedro descubre la fórmula con la que \n",
        "                Juan crea el número con las pistas dadas, y es la siguiente:\n",
        "                \n",
        "                p1 + p3 ∗ p2 − (p1 + p2 ∗ 5 + 1) / (p2 + p1/2) + p3\n",
        "                \n",
        "                Si la pista que da Juan es 2, 1 y 4, ¿cuál es el número que debería decir Pedro para ganar? \n",
        "                Escribamos el código para recibir los valores y devolver el valor que Pedro debería decir.\n",
        "\n",
        "META          : Indicar a Pedro el valor a decir si quiere ganar\n",
        "\n",
        "ANÁLISIS\n",
        "  Entradas    : p1, numérico, entero\n",
        "                p2, numérico, entero\n",
        "                p3, numérico, entero\n",
        "\n",
        "  Salidas     : Mensaje indicando el valor que pedro debe decir\n",
        "\n",
        "  Procesos    : a) Validar las entradas\n",
        "                b) calcular el valor a indicar utilizando la formula \n",
        "                  p1 + p3 ∗ p2 − (p1 + p2 ∗ 5 + 1) / (p2 + p1/2) + p3\n",
        "\n",
        "EJEMPLOS\n",
        "  p1=2, p2=1, p3=4, rpta: 6.0\n",
        "\n",
        "ALGORITMO\n",
        "  Inicio\n",
        "    p1 <- 2\n",
        "    p2 <- 1\n",
        "    p3 <- 4\n",
        "    ni <- p1 + p3 ∗ p2 − (p1 + p2 ∗ 5 + 1) / (p2 + p1/2) + p3\n",
        "    Escribir ni\n",
        "  Fin\n",
        "\"\"\"\n",
        "p1 = 2\n",
        "p2 = 5\n",
        "p3 = 2\n",
        "ni = p1+p3*p2-(p1+p2*5+1)//(p2+p1//2)+p3\n",
        "print(ni)\n"
      ],
      "execution_count": null,
      "outputs": [
        {
          "output_type": "stream",
          "text": [
            "10\n"
          ],
          "name": "stdout"
        }
      ]
    },
    {
      "cell_type": "code",
      "metadata": {
        "id": "9qOpSF1lo52e"
      },
      "source": [
        ""
      ],
      "execution_count": null,
      "outputs": []
    }
  ]
}